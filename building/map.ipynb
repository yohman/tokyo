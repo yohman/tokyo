{
 "cells": [
  {
   "cell_type": "code",
   "execution_count": null,
   "metadata": {},
   "outputs": [],
   "source": []
  },
  {
   "cell_type": "code",
   "execution_count": 1,
   "metadata": {},
   "outputs": [
    {
     "name": "stderr",
     "output_type": "stream",
     "text": [
      "/Users/yohkawano/opt/anaconda3/envs/geos/lib/python3.11/site-packages/pysal/explore/segregation/network/network.py:15: UserWarning: You need pandana and urbanaccess to work with segregation's network module\n",
      "You can install them with  `pip install urbanaccess pandana` or `conda install -c udst pandana urbanaccess`\n",
      "  warn(\n",
      "/Users/yohkawano/opt/anaconda3/envs/geos/lib/python3.11/site-packages/pysal/model/spvcm/abstracts.py:10: UserWarning: The `dill` module is required to use the sqlite backend fully.\n",
      "  from .sqlite import head_to_sql, start_sql\n"
     ]
    }
   ],
   "source": [
    "import geopandas as gpd\n",
    "from sqlalchemy import create_engine\n",
    "import psycopg2\n",
    "\n",
    "# import libraries\n",
    "import geopandas as gpd\n",
    "import pandas as pd\n",
    "import numpy as np\n",
    "\n",
    "# for interactive plots\n",
    "import plotly.express as px\n",
    "import seaborn\n",
    "import pysal\n",
    "import contextily as ctx\n",
    "\n",
    "import matplotlib.pyplot as plt\n",
    "from matplotlib.patches import Ellipse\n",
    "from pointpats import centrography\n",
    "\n",
    "import imageio\n",
    "from IPython.display import Image\n",
    "\n",
    "import matplotlib as mpl\n",
    "# set font\n",
    "mpl.rc('font',family='Hiragino Maru Gothic Pro')\n",
    "# mpl.rc('font',family='YuMincho')\n",
    "\n",
    "# library additionas for legends\n",
    "from matplotlib.patches import Patch\n",
    "from matplotlib.lines import Line2D\n",
    "import matplotlib.patheffects as pe\n",
    "\n",
    "pd.set_option(\"display.max_columns\", None)\n",
    "\n",
    "import plotly.io as pio\n",
    "\n",
    "from adjustText import adjust_text"
   ]
  },
  {
   "cell_type": "code",
   "execution_count": 2,
   "metadata": {},
   "outputs": [
    {
     "ename": "KeyboardInterrupt",
     "evalue": "",
     "output_type": "error",
     "traceback": [
      "\u001b[0;31m---------------------------------------------------------------------------\u001b[0m",
      "\u001b[0;31mKeyboardInterrupt\u001b[0m                         Traceback (most recent call last)",
      "Cell \u001b[0;32mIn[2], line 1\u001b[0m\n\u001b[0;32m----> 1\u001b[0m result\u001b[39m=\u001b[39mgpd\u001b[39m.\u001b[39;49mread_file(\u001b[39m'\u001b[39;49m\u001b[39mh3.geojson\u001b[39;49m\u001b[39m'\u001b[39;49m)\n",
      "File \u001b[0;32m~/opt/anaconda3/envs/geos/lib/python3.11/site-packages/geopandas/io/file.py:259\u001b[0m, in \u001b[0;36m_read_file\u001b[0;34m(filename, bbox, mask, rows, engine, **kwargs)\u001b[0m\n\u001b[1;32m    256\u001b[0m     path_or_bytes \u001b[39m=\u001b[39m filename\n\u001b[1;32m    258\u001b[0m \u001b[39mif\u001b[39;00m engine \u001b[39m==\u001b[39m \u001b[39m\"\u001b[39m\u001b[39mfiona\u001b[39m\u001b[39m\"\u001b[39m:\n\u001b[0;32m--> 259\u001b[0m     \u001b[39mreturn\u001b[39;00m _read_file_fiona(\n\u001b[1;32m    260\u001b[0m         path_or_bytes, from_bytes, bbox\u001b[39m=\u001b[39;49mbbox, mask\u001b[39m=\u001b[39;49mmask, rows\u001b[39m=\u001b[39;49mrows, \u001b[39m*\u001b[39;49m\u001b[39m*\u001b[39;49mkwargs\n\u001b[1;32m    261\u001b[0m     )\n\u001b[1;32m    262\u001b[0m \u001b[39melif\u001b[39;00m engine \u001b[39m==\u001b[39m \u001b[39m\"\u001b[39m\u001b[39mpyogrio\u001b[39m\u001b[39m\"\u001b[39m:\n\u001b[1;32m    263\u001b[0m     \u001b[39mreturn\u001b[39;00m _read_file_pyogrio(\n\u001b[1;32m    264\u001b[0m         path_or_bytes, bbox\u001b[39m=\u001b[39mbbox, mask\u001b[39m=\u001b[39mmask, rows\u001b[39m=\u001b[39mrows, \u001b[39m*\u001b[39m\u001b[39m*\u001b[39mkwargs\n\u001b[1;32m    265\u001b[0m     )\n",
      "File \u001b[0;32m~/opt/anaconda3/envs/geos/lib/python3.11/site-packages/geopandas/io/file.py:360\u001b[0m, in \u001b[0;36m_read_file_fiona\u001b[0;34m(path_or_bytes, from_bytes, bbox, mask, rows, where, **kwargs)\u001b[0m\n\u001b[1;32m    356\u001b[0m     df \u001b[39m=\u001b[39m pd\u001b[39m.\u001b[39mDataFrame(\n\u001b[1;32m    357\u001b[0m         [record[\u001b[39m\"\u001b[39m\u001b[39mproperties\u001b[39m\u001b[39m\"\u001b[39m] \u001b[39mfor\u001b[39;00m record \u001b[39min\u001b[39;00m f_filt], columns\u001b[39m=\u001b[39mcolumns\n\u001b[1;32m    358\u001b[0m     )\n\u001b[1;32m    359\u001b[0m \u001b[39melse\u001b[39;00m:\n\u001b[0;32m--> 360\u001b[0m     df \u001b[39m=\u001b[39m GeoDataFrame\u001b[39m.\u001b[39;49mfrom_features(\n\u001b[1;32m    361\u001b[0m         f_filt, crs\u001b[39m=\u001b[39;49mcrs, columns\u001b[39m=\u001b[39;49mcolumns \u001b[39m+\u001b[39;49m [\u001b[39m\"\u001b[39;49m\u001b[39mgeometry\u001b[39;49m\u001b[39m\"\u001b[39;49m]\n\u001b[1;32m    362\u001b[0m     )\n\u001b[1;32m    363\u001b[0m \u001b[39mfor\u001b[39;00m k \u001b[39min\u001b[39;00m datetime_fields:\n\u001b[1;32m    364\u001b[0m     as_dt \u001b[39m=\u001b[39m pd\u001b[39m.\u001b[39mto_datetime(df[k], errors\u001b[39m=\u001b[39m\u001b[39m\"\u001b[39m\u001b[39mignore\u001b[39m\u001b[39m\"\u001b[39m)\n",
      "File \u001b[0;32m~/opt/anaconda3/envs/geos/lib/python3.11/site-packages/geopandas/geodataframe.py:630\u001b[0m, in \u001b[0;36mGeoDataFrame.from_features\u001b[0;34m(cls, features, crs, columns)\u001b[0m\n\u001b[1;32m    627\u001b[0m     features_lst \u001b[39m=\u001b[39m features\n\u001b[1;32m    629\u001b[0m rows \u001b[39m=\u001b[39m []\n\u001b[0;32m--> 630\u001b[0m \u001b[39mfor\u001b[39;00m feature \u001b[39min\u001b[39;00m features_lst:\n\u001b[1;32m    631\u001b[0m     \u001b[39m# load geometry\u001b[39;00m\n\u001b[1;32m    632\u001b[0m     \u001b[39mif\u001b[39;00m \u001b[39mhasattr\u001b[39m(feature, \u001b[39m\"\u001b[39m\u001b[39m__geo_interface__\u001b[39m\u001b[39m\"\u001b[39m):\n\u001b[1;32m    633\u001b[0m         feature \u001b[39m=\u001b[39m feature\u001b[39m.\u001b[39m__geo_interface__\n",
      "File \u001b[0;32mfiona/ogrext.pyx:1689\u001b[0m, in \u001b[0;36mfiona.ogrext.Iterator.__next__\u001b[0;34m()\u001b[0m\n",
      "File \u001b[0;32mfiona/ogrext.pyx:390\u001b[0m, in \u001b[0;36mfiona.ogrext.FeatureBuilder.build\u001b[0;34m()\u001b[0m\n",
      "File \u001b[0;32m~/opt/anaconda3/envs/geos/lib/python3.11/site-packages/fiona/model.py:352\u001b[0m, in \u001b[0;36mProperties.__init__\u001b[0;34m(self, **kwds)\u001b[0m\n\u001b[1;32m    351\u001b[0m \u001b[39mdef\u001b[39;00m \u001b[39m__init__\u001b[39m(\u001b[39mself\u001b[39m, \u001b[39m*\u001b[39m\u001b[39m*\u001b[39mkwds):\n\u001b[0;32m--> 352\u001b[0m     \u001b[39msuper\u001b[39;49m(Properties, \u001b[39mself\u001b[39;49m)\u001b[39m.\u001b[39;49m\u001b[39m__init__\u001b[39;49m(\u001b[39m*\u001b[39;49m\u001b[39m*\u001b[39;49mkwds)\n",
      "File \u001b[0;32m~/opt/anaconda3/envs/geos/lib/python3.11/site-packages/fiona/model.py:123\u001b[0m, in \u001b[0;36mObject.__init__\u001b[0;34m(self, **kwds)\u001b[0m\n\u001b[1;32m    122\u001b[0m \u001b[39mdef\u001b[39;00m \u001b[39m__init__\u001b[39m(\u001b[39mself\u001b[39m, \u001b[39m*\u001b[39m\u001b[39m*\u001b[39mkwds):\n\u001b[0;32m--> 123\u001b[0m     \u001b[39mself\u001b[39m\u001b[39m.\u001b[39m_data \u001b[39m=\u001b[39m OrderedDict(\u001b[39m*\u001b[39;49m\u001b[39m*\u001b[39;49mkwds)\n",
      "\u001b[0;31mKeyboardInterrupt\u001b[0m: "
     ]
    }
   ],
   "source": [
    "result=gpd.read_file('h3.geojson')"
   ]
  },
  {
   "cell_type": "code",
   "execution_count": null,
   "metadata": {},
   "outputs": [],
   "source": [
    "def building_by_ku(ku='墨田区'):\n",
    "    \n",
    "    number_of_buildings = len(result[result['SIKUCHOSON']==ku])\n",
    "\n",
    "    if number_of_buildings > 0:\n",
    "        fig, ax = plt.subplots(figsize=(8,8))\n",
    "        \n",
    "        subtitle_text = str(number_of_buildings)+' buildings'\n",
    "\n",
    "        # Title text and font sizes\n",
    "        line1_text = ku\n",
    "        line2_text = str(len(result[result['SIKUCHOSON']==ku]))+' buildings'\n",
    "        line1_fontsize = 50\n",
    "        line2_fontsize = 12\n",
    "\n",
    "        # Define outline color and width\n",
    "        outline_color = 'white'\n",
    "        outline_width = 2\n",
    "\n",
    "        # Add title lines with outline color within the chart area\n",
    "        title1 = ax.text(0.5, 0.7, line1_text, fontsize=line1_fontsize, ha='center', va='center', transform=ax.transAxes,\n",
    "                        path_effects=[withStroke(linewidth=outline_width, foreground=outline_color)])\n",
    "        title2 = ax.text(0.5, 0.61, line2_text, fontsize=line2_fontsize, ha='center', va='center', transform=ax.transAxes,\n",
    "                        path_effects=[withStroke(linewidth=outline_width, foreground=outline_color)])\n",
    "\n",
    "        result[result['SIKUCHOSON']==ku].plot(ax=ax,facecolor='none', edgecolor='black',alpha=0.8,linewidth=0.1)\n",
    "        ax.axis('off')\n",
    "       \n",
    "        # Save the plot as an image file (e.g., PNG, JPEG, PDF, SVG)\n",
    "        output_file = ku+'.png'  \n",
    "        plt.savefig(output_file, dpi=300, bbox_inches='tight')  # You can adjust the DPI and other settings\n",
    "\n",
    "building_by_ku()"
   ]
  },
  {
   "cell_type": "code",
   "execution_count": null,
   "metadata": {},
   "outputs": [],
   "source": [
    "for ku in kus:\n",
    "    building_by_ku(ku)"
   ]
  }
 ],
 "metadata": {
  "kernelspec": {
   "display_name": "geos",
   "language": "python",
   "name": "python3"
  },
  "language_info": {
   "codemirror_mode": {
    "name": "ipython",
    "version": 3
   },
   "file_extension": ".py",
   "mimetype": "text/x-python",
   "name": "python",
   "nbconvert_exporter": "python",
   "pygments_lexer": "ipython3",
   "version": "3.11.0"
  },
  "orig_nbformat": 4
 },
 "nbformat": 4,
 "nbformat_minor": 2
}
