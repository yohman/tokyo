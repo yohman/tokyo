{
 "cells": [
  {
   "cell_type": "code",
   "execution_count": 1,
   "metadata": {},
   "outputs": [
    {
     "name": "stderr",
     "output_type": "stream",
     "text": [
      "/Users/yohkawano/opt/anaconda3/envs/geos/lib/python3.11/site-packages/pysal/explore/segregation/network/network.py:15: UserWarning: You need pandana and urbanaccess to work with segregation's network module\n",
      "You can install them with  `pip install urbanaccess pandana` or `conda install -c udst pandana urbanaccess`\n",
      "  warn(\n",
      "/Users/yohkawano/opt/anaconda3/envs/geos/lib/python3.11/site-packages/pysal/model/spvcm/abstracts.py:10: UserWarning: The `dill` module is required to use the sqlite backend fully.\n",
      "  from .sqlite import head_to_sql, start_sql\n"
     ]
    }
   ],
   "source": [
    "import geopandas as gpd\n",
    "from sqlalchemy import create_engine\n",
    "import psycopg2\n",
    "\n",
    "# import libraries\n",
    "import geopandas as gpd\n",
    "import pandas as pd\n",
    "import numpy as np\n",
    "\n",
    "# for interactive plots\n",
    "import plotly.express as px\n",
    "import seaborn\n",
    "import pysal\n",
    "import contextily as ctx\n",
    "\n",
    "import matplotlib.pyplot as plt\n",
    "from matplotlib.patches import Ellipse\n",
    "from pointpats import centrography\n",
    "\n",
    "import imageio\n",
    "from IPython.display import Image\n",
    "\n",
    "import matplotlib as mpl\n",
    "# set font\n",
    "mpl.rc('font',family='Hiragino Maru Gothic Pro')\n",
    "# mpl.rc('font',family='YuMincho')\n",
    "\n",
    "# library additionas for legends\n",
    "from matplotlib.patches import Patch\n",
    "from matplotlib.lines import Line2D\n",
    "import matplotlib.patheffects as pe\n",
    "\n",
    "pd.set_option(\"display.max_columns\", None)\n",
    "\n",
    "import plotly.io as pio\n",
    "\n",
    "from adjustText import adjust_text"
   ]
  },
  {
   "cell_type": "markdown",
   "metadata": {},
   "source": [
    "## Import GIS layers from Postgresql"
   ]
  },
  {
   "cell_type": "code",
   "execution_count": 2,
   "metadata": {},
   "outputs": [],
   "source": [
    "# Replace placeholders with your database credentials\n",
    "DB_USER = \"\"\n",
    "DB_PASSWORD = \"\"\n",
    "DB_HOST = \"localhost\"\n",
    "DB_PORT = \"5432\"\n",
    "DB_NAME = \"xymax\"\n",
    "\n",
    "# Construct the connection string\n",
    "connection_string = f\"postgresql://{DB_USER}:{DB_PASSWORD}@{DB_HOST}:{DB_PORT}/{DB_NAME}\"\n",
    "\n",
    "# Create the SQLAlchemy engine\n",
    "con = create_engine(connection_string)\n"
   ]
  },
  {
   "cell_type": "code",
   "execution_count": 3,
   "metadata": {},
   "outputs": [],
   "source": [
    "# import buildings\n",
    "table_name = \"SELECT * FROM H3building\"\n",
    "h3 = gpd.read_postgis(table_name, con)"
   ]
  },
  {
   "cell_type": "code",
   "execution_count": 5,
   "metadata": {},
   "outputs": [],
   "source": [
    "# import tokyo cities\n",
    "regions = gpd.read_file('../data/master/project_area_census_by_ku.geojson')"
   ]
  },
  {
   "cell_type": "code",
   "execution_count": 6,
   "metadata": {},
   "outputs": [],
   "source": [
    "# set the crs to match\n",
    "regions = regions.to_crs(h3.crs)"
   ]
  },
  {
   "cell_type": "code",
   "execution_count": 8,
   "metadata": {},
   "outputs": [],
   "source": [
    "# put the ku's in a list\n",
    "kus = regions['SIKUCHOSON'].unique().tolist()"
   ]
  },
  {
   "cell_type": "code",
   "execution_count": 9,
   "metadata": {},
   "outputs": [
    {
     "name": "stderr",
     "output_type": "stream",
     "text": [
      "/Users/yohkawano/opt/anaconda3/envs/geos/lib/python3.11/site-packages/IPython/core/interactiveshell.py:3382: FutureWarning: The `op` parameter is deprecated and will be removed in a future release. Please use the `predicate` parameter instead.\n",
      "  if await self.run_code(code, result, async_=asy):\n"
     ]
    }
   ],
   "source": [
    "# Perform spatial join to assign city to buildings\n",
    "result = gpd.sjoin(h3, regions, how='left', op='intersects')\n",
    "\n",
    "# Create a new \"city\" column in the result GeoDataFrame\n",
    "result['city'] = result['SIKUCHOSON']"
   ]
  },
  {
   "cell_type": "code",
   "execution_count": 10,
   "metadata": {},
   "outputs": [],
   "source": [
    "result.to_file('h3.geojson', driver='GeoJSON')\n"
   ]
  },
  {
   "cell_type": "code",
   "execution_count": null,
   "metadata": {},
   "outputs": [],
   "source": [
    "def building_by_ku(ku='墨田区'):\n",
    "    \n",
    "    number_of_buildings = len(result[result['SIKUCHOSON']==ku])\n",
    "\n",
    "    if number_of_buildings > 0:\n",
    "        fig, ax = plt.subplots(figsize=(8,8))\n",
    "        \n",
    "        subtitle_text = str(number_of_buildings)+' buildings'\n",
    "\n",
    "        # Title text and font sizes\n",
    "        line1_text = ku\n",
    "        line2_text = str(len(result[result['SIKUCHOSON']==ku]))+' buildings'\n",
    "        line1_fontsize = 50\n",
    "        line2_fontsize = 12\n",
    "\n",
    "        # Define outline color and width\n",
    "        outline_color = 'white'\n",
    "        outline_width = 2\n",
    "\n",
    "        # Add title lines with outline color within the chart area\n",
    "        title1 = ax.text(0.5, 0.7, line1_text, fontsize=line1_fontsize, ha='center', va='center', transform=ax.transAxes,\n",
    "                        path_effects=[withStroke(linewidth=outline_width, foreground=outline_color)])\n",
    "        title2 = ax.text(0.5, 0.61, line2_text, fontsize=line2_fontsize, ha='center', va='center', transform=ax.transAxes,\n",
    "                        path_effects=[withStroke(linewidth=outline_width, foreground=outline_color)])\n",
    "\n",
    "        result[result['SIKUCHOSON']==ku].plot(ax=ax,facecolor='none', edgecolor='black',alpha=0.8,linewidth=0.1)\n",
    "        ax.axis('off')\n",
    "       \n",
    "        # Save the plot as an image file (e.g., PNG, JPEG, PDF, SVG)\n",
    "        output_file = ku+'.png'  \n",
    "        plt.savefig(output_file, dpi=300, bbox_inches='tight')  # You can adjust the DPI and other settings\n",
    "\n",
    "building_by_ku()"
   ]
  },
  {
   "cell_type": "code",
   "execution_count": null,
   "metadata": {},
   "outputs": [],
   "source": [
    "for ku in kus:\n",
    "    building_by_ku(ku)"
   ]
  }
 ],
 "metadata": {
  "kernelspec": {
   "display_name": "geos",
   "language": "python",
   "name": "python3"
  },
  "language_info": {
   "codemirror_mode": {
    "name": "ipython",
    "version": 3
   },
   "file_extension": ".py",
   "mimetype": "text/x-python",
   "name": "python",
   "nbconvert_exporter": "python",
   "pygments_lexer": "ipython3",
   "version": "3.11.0"
  },
  "orig_nbformat": 4
 },
 "nbformat": 4,
 "nbformat_minor": 2
}
